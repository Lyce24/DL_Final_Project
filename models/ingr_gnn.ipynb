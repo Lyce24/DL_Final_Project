{
 "cells": [
  {
   "cell_type": "code",
   "execution_count": 56,
   "metadata": {},
   "outputs": [],
   "source": [
    "import torch.nn as nn\n",
    "from torch_geometric.nn import GCNConv, GATConv, BatchNorm\n",
    "# load co-occurrence graph\n",
    "import torch\n",
    "import torch.optim as optim\n",
    "\n",
    "\n",
    "class CoOccurrenceGNN(nn.Module):\n",
    "    def __init__(self, input_dim, hidden_dim, output_dim, activation=nn.ReLU):\n",
    "        \"\"\"\n",
    "        GNN for learning ingredient embeddings from co-occurrence graphs.\n",
    "\n",
    "        Parameters:\n",
    "        - input_dim: Dimensionality of input node features.\n",
    "        - hidden_dim: Dimensionality of hidden layers.\n",
    "        - output_dim: Dimensionality of output node embeddings.\n",
    "        \"\"\"\n",
    "        super(CoOccurrenceGNN, self).__init__()\n",
    "        self.conv1 = GCNConv(input_dim, hidden_dim)\n",
    "        self.conv2 = GCNConv(hidden_dim, output_dim)\n",
    "        self.activation = activation()\n",
    "\n",
    "    def forward(self, x, edge_index, edge_attr=None):\n",
    "        \"\"\"\n",
    "        Forward pass for the GNN.\n",
    "\n",
    "        Parameters:\n",
    "        - x: Node features (num_nodes, input_dim).\n",
    "        - edge_index: Graph connectivity (2, num_edges).\n",
    "        - edge_attr: Edge weights (num_edges).\n",
    "\n",
    "        Returns:\n",
    "        - Node embeddings (num_nodes, output_dim).\n",
    "        \"\"\"\n",
    "        \n",
    "        \n",
    "        # First GCN layer\n",
    "        x = self.conv1(x, edge_index, edge_weight=edge_attr)\n",
    "        x = self.activation(x)\n",
    "\n",
    "        # Second GCN layer\n",
    "        x = self.conv2(x, edge_index, edge_weight=edge_attr)\n",
    "        return x\n",
    "    \n",
    "class CoOccurrenceGNNV2(nn.Module):\n",
    "    def __init__(self, input_dim, hidden_dim, output_dim, edge_dim, activation=nn.ReLU, dropout_rate=0.3):\n",
    "        \"\"\"\n",
    "        Improved GNN for learning embeddings from co-occurrence graphs.\n",
    "\n",
    "        Parameters:\n",
    "        - input_dim: Dimensionality of input node features.\n",
    "        - hidden_dim: Dimensionality of hidden layers.\n",
    "        - output_dim: Dimensionality of output embeddings.\n",
    "        - edge_dim: Dimensionality of edge attributes.\n",
    "        - activation: Activation function to use (default: ReLU).\n",
    "        - dropout_rate: Dropout rate to apply (default: 0.3).\n",
    "        \"\"\"\n",
    "        super(CoOccurrenceGNNV2, self).__init__()\n",
    "        \n",
    "        # Graph Attention Layers\n",
    "        self.conv1 = GATConv(input_dim, hidden_dim, edge_dim=edge_dim)\n",
    "        self.conv2 = GATConv(hidden_dim, output_dim, edge_dim=edge_dim)\n",
    "        \n",
    "        # Batch Normalization\n",
    "        self.bn1 = BatchNorm(hidden_dim)\n",
    "        self.bn2 = BatchNorm(output_dim)\n",
    "        \n",
    "        # Activation\n",
    "        self.activation = activation()\n",
    "        \n",
    "        # Dropout for regularization\n",
    "        self.dropout = nn.Dropout(dropout_rate)\n",
    "        \n",
    "        # Residual connection\n",
    "        self.residual = input_dim == output_dim  # Add residual connection only if dimensions match\n",
    "\n",
    "    def forward(self, x, edge_index, edge_attr):\n",
    "        \"\"\"\n",
    "        Forward pass for the GNN.\n",
    "        \"\"\"\n",
    "        # First GAT Layer\n",
    "        x1 = self.conv1(x, edge_index, edge_attr=edge_attr)\n",
    "        x1 = self.bn1(x1)\n",
    "        x1 = self.activation(x1)\n",
    "        x1 = self.dropout(x1)\n",
    "        \n",
    "        # Second GAT Layer\n",
    "        x2 = self.conv2(x1, edge_index, edge_attr=edge_attr)\n",
    "        x2 = self.bn2(x2)\n",
    "        \n",
    "        # Residual connection (if applicable)\n",
    "        if self.residual:\n",
    "            x2 = x2 + x\n",
    "\n",
    "        return x2\n"
   ]
  },
  {
   "cell_type": "code",
   "execution_count": 57,
   "metadata": {},
   "outputs": [],
   "source": [
    "def train_gnn(model, graph, epochs=50, learning_rate=0.01, weight_decay=1e-5):\n",
    "    \"\"\"\n",
    "    Train the GNN on the co-occurrence graph.\n",
    "\n",
    "    Parameters:\n",
    "    - model: GNN model.\n",
    "    - graph: PyTorch Geometric graph object.\n",
    "    - epochs: Number of training epochs.\n",
    "    - learning_rate: Learning rate for the optimizer.\n",
    "\n",
    "    Returns:\n",
    "    - model: Trained GNN model.\n",
    "    \"\"\"\n",
    "    optimizer = optim.Adam(model.parameters(), lr=learning_rate)\n",
    "    loss_fn = nn.MSELoss()\n",
    "\n",
    "    # Move model and graph to the same device\n",
    "    device = torch.device(\"cuda\" if torch.cuda.is_available() else \"cpu\")\n",
    "    model = model.to(device)\n",
    "    graph = graph.to(device)\n",
    "\n",
    "    # Log graph properties\n",
    "    print(\"Graph Properties:\")\n",
    "    print(f\"  Number of Nodes: {graph.x.shape}\")\n",
    "    print(f\"  Number of Edges: {graph.edge_index.shape}\")\n",
    "    print(f\"  Edge Attribute Dim: {graph.edge_attr.shape}\")\n",
    "\n",
    "    for epoch in range(1, epochs + 1):\n",
    "        model.train()\n",
    "        optimizer.zero_grad()\n",
    "\n",
    "        # Forward pass\n",
    "        out = model(graph.x, graph.edge_index, edge_attr=graph.edge_attr)\n",
    "\n",
    "        # Compute edge prediction loss\n",
    "        edge_attr_pred = (out[graph.edge_index[0]] * out[graph.edge_index[1]]).sum(dim=1)\n",
    "        loss = loss_fn(edge_attr_pred, graph.edge_attr)\n",
    "\n",
    "        # Backpropagation and optimization\n",
    "        loss.backward()\n",
    "        optimizer.step()\n",
    "\n",
    "        # Log progress\n",
    "        if epoch % 5 == 0 or epoch == epochs:\n",
    "            print(f\"Epoch {epoch}/{epochs}, Loss: {loss.item():.4f}\")\n",
    "\n",
    "    print(\"Training Complete!\")\n",
    "    return model"
   ]
  },
  {
   "cell_type": "code",
   "execution_count": 58,
   "metadata": {},
   "outputs": [
    {
     "data": {
      "text/plain": [
       "Data(x=[199, 199], edge_index=[2, 5864], edge_attr=[5864])"
      ]
     },
     "execution_count": 58,
     "metadata": {},
     "output_type": "execute_result"
    }
   ],
   "source": [
    "# load co-occurrence graph\n",
    "import torch\n",
    "\n",
    "device = torch.device(\"cuda\" if torch.cuda.is_available() else \"cpu\")\n",
    "\n",
    "graph = torch.load(\"../utils/data/ingredient_graph.pt\", weights_only=False, map_location=device)\n",
    "graph\n"
   ]
  },
  {
   "cell_type": "code",
   "execution_count": 59,
   "metadata": {},
   "outputs": [
    {
     "name": "stdout",
     "output_type": "stream",
     "text": [
      "Graph Properties:\n",
      "  Number of Nodes: torch.Size([199, 199])\n",
      "  Number of Edges: torch.Size([2, 5864])\n",
      "  Edge Attribute Dim: torch.Size([5864])\n",
      "Epoch 5/75, Loss: 5.4606\n",
      "Epoch 10/75, Loss: 1.6752\n",
      "Epoch 15/75, Loss: 0.4966\n",
      "Epoch 20/75, Loss: 0.3307\n",
      "Epoch 25/75, Loss: 0.1772\n",
      "Epoch 30/75, Loss: 0.1012\n",
      "Epoch 35/75, Loss: 0.0573\n",
      "Epoch 40/75, Loss: 0.0635\n",
      "Epoch 45/75, Loss: 0.0418\n",
      "Epoch 50/75, Loss: 0.0518\n",
      "Epoch 55/75, Loss: 0.0378\n",
      "Epoch 60/75, Loss: 0.0366\n",
      "Epoch 65/75, Loss: 0.0283\n",
      "Epoch 70/75, Loss: 0.0279\n",
      "Epoch 75/75, Loss: 0.0299\n",
      "Training Complete!\n"
     ]
    }
   ],
   "source": [
    "# Define the GNN model\n",
    "input_dim = graph.x.size(1)  # Number of input features\n",
    "hidden_dim = 128\n",
    "output_dim = 128\n",
    "\n",
    "edge_dim = graph.edge_attr.size(1) if graph.edge_attr is not None and graph.edge_attr.dim() > 1 else 1\n",
    "\n",
    "# model = CoOccurrenceGNN(input_dim, hidden_dim, output_dim)\n",
    "model = CoOccurrenceGNNV2(input_dim, hidden_dim, output_dim, edge_dim)\n",
    "\n",
    "model = model.to(device)\n",
    "# Train the GNN\n",
    "model = train_gnn(model, graph, epochs=75)\n"
   ]
  },
  {
   "cell_type": "code",
   "execution_count": 60,
   "metadata": {},
   "outputs": [
    {
     "data": {
      "text/plain": [
       "torch.Size([199, 128])"
      ]
     },
     "execution_count": 60,
     "metadata": {},
     "output_type": "execute_result"
    }
   ],
   "source": [
    "# Put the model in evaluation mode\n",
    "model.eval()\n",
    "\n",
    "# Perform a forward pass to get the ingredient embeddings\n",
    "with torch.no_grad():\n",
    "    ingredient_embeddings = model(graph.x, graph.edge_index, graph.edge_attr)\n",
    "\n",
    "ingredient_embeddings.shape"
   ]
  },
  {
   "cell_type": "code",
   "execution_count": 61,
   "metadata": {},
   "outputs": [
    {
     "name": "stdout",
     "output_type": "stream",
     "text": [
      "Top-5 similar ingredients for ingredient 0: tensor([65, 50, 23, 84, 74])\n",
      "Ingredient: brown rice\n",
      "Similar Ingredients: ['white rice', 'jalapenos', 'chard', 'bok choy', 'cheese pizza']\n"
     ]
    }
   ],
   "source": [
    "import torch.nn.functional as F\n",
    "train_ingr_id = '../utils/data/train_labels_ingr_id.csv'\n",
    "# val_ingr_id = './val_labels_ingr_id.csv'\n",
    "# test_ingr_id = './test_labels_ingr_id.csv'\n",
    "import pandas as pd\n",
    "\n",
    "train_df = pd.read_csv(train_ingr_id)\n",
    "# ingredients name = train_df's columns name\n",
    "ingredients = train_df.columns[1:-1].to_list()\n",
    "\n",
    "# Normalize embeddings for cosine similarity\n",
    "normalized_embeddings = F.normalize(ingredient_embeddings, p=2, dim=1)\n",
    "\n",
    "# Compute pairwise similarity\n",
    "similarity_matrix = normalized_embeddings @ normalized_embeddings.t()\n",
    "\n",
    "# Find top-5 similar ingredients for a specific ingredient (e.g., ingredient 0)\n",
    "ingredient_index = 0\n",
    "top_k = 5\n",
    "similar_indices = torch.topk(similarity_matrix[ingredient_index], top_k + 1).indices[1:]  # Exclude self\n",
    "print(f\"Top-{top_k} similar ingredients for ingredient {ingredient_index}: {similar_indices}\")\n",
    "\n",
    "# Print the top-5 similar ingredients\n",
    "ingredient_0 = ingredients[ingredient_index]\n",
    "similar_ingredients = [ingredients[i] for i in similar_indices]\n",
    "print(f\"Ingredient: {ingredient_0}\")\n",
    "print(f\"Similar Ingredients: {similar_ingredients}\")\n"
   ]
  },
  {
   "cell_type": "code",
   "execution_count": 62,
   "metadata": {},
   "outputs": [
    {
     "data": {
      "image/png": "[encoded data removed]",
      "text/plain": [
       "<Figure size 640x480 with 1 Axes>"
      ]
     },
     "metadata": {},
     "output_type": "display_data"
    }
   ],
   "source": [
    "from sklearn.manifold import TSNE\n",
    "import matplotlib.pyplot as plt\n",
    "\n",
    "# Reduce dimensions with t-SNE\n",
    "reduced_embeddings = TSNE(n_components=2, random_state=42).fit_transform(ingredient_embeddings.numpy())\n",
    "\n",
    "# Plot the embeddings\n",
    "plt.scatter(reduced_embeddings[:, 0], reduced_embeddings[:, 1], s=10)\n",
    "plt.title(\"Ingredient Embeddings Visualization\")\n",
    "plt.xlabel(\"Dimension 1\")\n",
    "plt.ylabel(\"Dimension 2\")\n",
    "plt.show()\n"
   ]
  },
  {
   "cell_type": "code",
   "execution_count": 63,
   "metadata": {},
   "outputs": [
    {
     "data": {
      "image/png": "[encoded data removed]",
      "text/plain": [
       "<Figure size 640x480 with 1 Axes>"
      ]
     },
     "metadata": {},
     "output_type": "display_data"
    }
   ],
   "source": [
    "edge_similarity = (ingredient_embeddings[graph.edge_index[0]] * ingredient_embeddings[graph.edge_index[1]]).sum(dim=1)\n",
    "plt.hist(edge_similarity.numpy(), bins=50)\n",
    "plt.title(\"Edge Similarity Distribution\")\n",
    "plt.xlabel(\"Embedding Similarity\")\n",
    "plt.ylabel(\"Frequency\")\n",
    "plt.show()\n"
   ]
  },
  {
   "cell_type": "code",
   "execution_count": null,
   "metadata": {},
   "outputs": [],
   "source": [
    "# Save the ingredient embeddings\n",
    "torch.save(ingredient_embeddings, \"../utils/data/ingredient_embeddings_gnn_gat_test.pt\")"
   ]
  }
 ],
 "metadata": {
  "kernelspec": {
   "display_name": "csci2470",
   "language": "python",
   "name": "python3"
  },
  "language_info": {
   "codemirror_mode": {
    "name": "ipython",
    "version": 3
   },
   "file_extension": ".py",
   "mimetype": "text/x-python",
   "name": "python",
   "nbconvert_exporter": "python",
   "pygments_lexer": "ipython3",
   "version": "3.11.9"
  }
 },
 "nbformat": 4,
 "nbformat_minor": 2
}
