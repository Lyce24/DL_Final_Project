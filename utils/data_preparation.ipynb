{
 "cells": [
  {
   "cell_type": "code",
   "execution_count": 2,
   "metadata": {},
   "outputs": [
    {
     "name": "stdout",
     "output_type": "stream",
     "text": [
      "Number of training files: 2755\n",
      "Number of testing files: 507\n",
      "Number of labels: 3262\n",
      "\n",
      "------------------------------------\n",
      "\n",
      "                id    calories   mass        fat       carb    protein\n",
      "0  dish_1566851198  463.047455  342.0  21.119635  42.903687  25.897209\n",
      "1  dish_1565119439  465.412231  189.0  19.563423  42.858475  27.351355\n",
      "2  dish_1561753432  380.321686  238.0  19.463066  16.882177  33.369026\n",
      "3  dish_1561662054  419.438782  292.0  23.838249  26.351543  25.910593\n",
      "4  dish_1563205982  316.239502  469.0   4.363000  54.792000  16.148998\n"
     ]
    }
   ],
   "source": [
    "import os\n",
    "import pandas as pd\n",
    "dataset_path = '../data/nutrition5k_reconstructed/'\n",
    "\n",
    "dataset_path = '../../data/nutrition5k_reconstructed/'\n",
    "\n",
    "image_path = os.path.join(dataset_path, 'images')\n",
    "label_path = os.path.join(dataset_path, 'labels/labels.csv')\n",
    "train_path = os.path.join(dataset_path, 'metadata/train_ids.csv')\n",
    "test_path = os.path.join(dataset_path, 'metadata/test_ids.csv')\n",
    "\n",
    "# Training Files\n",
    "with open(train_path, 'r') as f:\n",
    "    train_files = f.read().splitlines()\n",
    "    print('Number of training files:', len(train_files))\n",
    "    \n",
    "# Testing Files\n",
    "with open(test_path, 'r') as f:\n",
    "    test_files = f.read().splitlines()\n",
    "    print('Number of testing files:', len(test_files))\n",
    "\n",
    "# Labels\n",
    "labels = pd.read_csv(label_path)\n",
    "print('Number of labels:', len(labels))\n",
    "print('\\n------------------------------------\\n')\n",
    "\n",
    "# Displaying the first 5 rows of the labels\n",
    "print(labels.head())\n"
   ]
  },
  {
   "cell_type": "code",
   "execution_count": 2,
   "metadata": {},
   "outputs": [
    {
     "name": "stdout",
     "output_type": "stream",
     "text": [
      "Outputs MAX values: \n",
      "    max_calorie  max_mass     max_fat    max_carb  max_protein\n",
      "0  3943.325195    3051.0  106.343002  844.568604   147.491821\n",
      "\n",
      "------------------------------------\n",
      "\n",
      "Normalized labels:\n",
      "                id  calories      mass       fat      carb   protein\n",
      "0  dish_1566851198  0.117426  0.112094  0.198599  0.050800  0.175584\n",
      "1  dish_1565119439  0.118025  0.061947  0.183965  0.050746  0.185443\n",
      "2  dish_1561753432  0.096447  0.078007  0.183022  0.019989  0.226243\n",
      "3  dish_1561662054  0.106367  0.095706  0.224164  0.031201  0.175675\n",
      "4  dish_1563205982  0.080196  0.153720  0.041028  0.064876  0.109491\n"
     ]
    }
   ],
   "source": [
    "import numpy as np\n",
    "import pandas as pd\n",
    "\n",
    "# Normalizing outputs in range [0-1]\n",
    "calories_max = labels.iloc[:, 1].max()\n",
    "mass_max = labels.iloc[:, 2].max()\n",
    "fat_max = labels.iloc[:, 3].max()\n",
    "carb_max = labels.iloc[:, 4].max()\n",
    "protein_max = labels.iloc[:, 5].max()\n",
    "\n",
    "labels.iloc[:, 1] = labels.iloc[:, 1] / calories_max\n",
    "labels.iloc[:, 2] = labels.iloc[:, 2] / mass_max\n",
    "labels.iloc[:, 3] = labels.iloc[:, 3] / fat_max\n",
    "labels.iloc[:, 4] = labels.iloc[:, 4] / carb_max\n",
    "labels.iloc[:, 5] = labels.iloc[:, 5] / protein_max\n",
    "\n",
    "outputs_max_values = {'max_calorie': [calories_max], 'max_mass': [mass_max], \n",
    "                      'max_fat': [fat_max], 'max_carb': [carb_max], 'max_protein': [protein_max]} \n",
    "df_outputs_max_values = pd.DataFrame(outputs_max_values)\n",
    "df_outputs_max_values.to_csv(\"./outputs_max_values.csv\", index=False)\n",
    "print(\"Outputs MAX values: \\n\", df_outputs_max_values)\n",
    "\n",
    "print('\\n------------------------------------\\n')\n",
    "print('Normalized labels:')\n",
    "print(labels.head())"
   ]
  },
  {
   "cell_type": "code",
   "execution_count": null,
   "metadata": {},
   "outputs": [
    {
     "name": "stdout",
     "output_type": "stream",
     "text": [
      "Number of training labels: 2755\n",
      "Number of validation labels: 203\n",
      "Number of testing labels: 304\n"
     ]
    }
   ],
   "source": [
    "# Splitting the data into training, validation and testing\n",
    "from sklearn.model_selection import train_test_split\n",
    "import shutil\n",
    "\n",
    "# Create Training Dataframe\n",
    "train_labels = labels[labels['id'].isin(train_files)]\n",
    "print('Number of training labels:', len(train_labels))\n",
    "\n",
    "# Create Testing Dataframe\n",
    "test_labels = labels[labels['id'].isin(test_files)]\n",
    "\n",
    "# Splitting the test data into validation and testing\n",
    "test_labels, val_labels = train_test_split(test_files, test_size=0.4, random_state=42)\n",
    "print('Number of validation labels:', len(val_labels))\n",
    "print('Number of testing labels:', len(test_labels))\n",
    "# convert the validation and testing labels to dataframes\n",
    "val_labels = labels[labels['id'].isin(val_labels)]\n",
    "test_labels = labels[labels['id'].isin(test_labels)]\n",
    "\n",
    "# Saving the training, validation and testing labels\n",
    "base_dir = './data'\n",
    "if os.path.exists(base_dir):\n",
    "    shutil.rmtree(base_dir)\n",
    "    \n",
    "if not os.path.exists(base_dir):\n",
    "    os.makedirs(base_dir)\n",
    "\n",
    "train_labels.to_csv(os.path.join(base_dir, 'train_labels.csv'), index=False)\n",
    "val_labels.to_csv(os.path.join(base_dir, 'val_labels.csv'), index=False)\n",
    "test_labels.to_csv(os.path.join(base_dir, 'test_labels.csv'), index=False)"
   ]
  },
  {
   "cell_type": "code",
   "execution_count": null,
   "metadata": {},
   "outputs": [],
   "source": [
    "# Speical Task about predicting based on the image and masses.\n",
    "labels = pd.read_csv(label_path)\n",
    "mass_inputs = labels.drop(columns=['calories', 'fat', 'carb', 'protein'])\n",
    "mass_inputs.to_csv(os.path.join(base_dir, 'mass_inputs.csv'), index=False)"
   ]
  }
 ],
 "metadata": {
  "kernelspec": {
   "display_name": "csci2470",
   "language": "python",
   "name": "python3"
  },
  "language_info": {
   "codemirror_mode": {
    "name": "ipython",
    "version": 3
   },
   "file_extension": ".py",
   "mimetype": "text/x-python",
   "name": "python",
   "nbconvert_exporter": "python",
   "pygments_lexer": "ipython3",
   "version": "3.11.9"
  }
 },
 "nbformat": 4,
 "nbformat_minor": 2
}
