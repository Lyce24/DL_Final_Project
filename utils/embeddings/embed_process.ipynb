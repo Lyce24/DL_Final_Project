{
 "cells": [
  {
   "cell_type": "code",
   "execution_count": 8,
   "metadata": {},
   "outputs": [
    {
     "name": "stdout",
     "output_type": "stream",
     "text": [
      "tensor([[-3.5067e-02,  4.0401e-02,  6.2585e-02,  ...,  8.7442e-02,\n",
      "         -3.4544e-02,  2.6393e-02],\n",
      "        [ 2.8923e-03,  3.5581e-02,  4.6746e-02,  ...,  6.9635e-02,\n",
      "         -3.1150e-02, -2.4894e-03],\n",
      "        [-3.8004e-02,  5.1686e-02,  1.3883e-01,  ...,  1.2125e-01,\n",
      "         -1.7026e-02,  8.5565e-03],\n",
      "        ...,\n",
      "        [ 2.5114e+00, -5.5451e-02, -4.2354e-01,  ...,  3.6905e-02,\n",
      "          1.6226e+00,  7.9568e-01],\n",
      "        [-2.0718e-02, -1.0674e+00,  1.5850e+00,  ...,  1.0442e+00,\n",
      "          1.6812e+00,  8.0268e-01],\n",
      "        [ 2.1651e-01,  4.2835e-01, -1.3640e+00,  ...,  6.5846e-02,\n",
      "          1.0917e+00, -3.6186e-01]])\n",
      "tensor([[-0.7719,  0.4169, -0.7402,  ...,  0.2603,  0.3389,  0.4507],\n",
      "        [-0.3830, -0.0660, -0.2323,  ..., -0.1751,  0.4549,  0.2395],\n",
      "        [-0.4955,  0.4092, -1.1320,  ..., -0.4718, -0.1319,  0.4905],\n",
      "        ...,\n",
      "        [-0.4084, -0.0712, -0.4128,  ..., -0.2269, -0.0887,  0.3565],\n",
      "        [-0.8203,  0.4091, -0.4271,  ..., -0.3878,  0.0322,  0.7871],\n",
      "        [-0.1914,  0.2247,  0.0174,  ..., -0.2285,  0.3395,  0.1438]])\n"
     ]
    },
    {
     "name": "stderr",
     "output_type": "stream",
     "text": [
      "/tmp/ipykernel_3247904/1702126324.py:4: FutureWarning: You are using `torch.load` with `weights_only=False` (the current default value), which uses the default pickle module implicitly. It is possible to construct malicious pickle data which will execute arbitrary code during unpickling (See https://github.com/pytorch/pytorch/blob/main/SECURITY.md#untrusted-models for more details). In a future release, the default value for `weights_only` will be flipped to `True`. This limits the functions that could be executed during unpickling. Arbitrary objects will no longer be allowed to be loaded via this mode unless they are explicitly allowlisted by the user via `torch.serialization.add_safe_globals`. We recommend you start setting `weights_only=True` for any use case where you don't have full control of the loaded file. Please open an issue on GitHub for any issues related to this experimental feature.\n",
      "  ingredient_embeddings = torch.load(\"./ingredient_embeddings_gat_v2.pt\")\n",
      "/tmp/ipykernel_3247904/1702126324.py:5: FutureWarning: You are using `torch.load` with `weights_only=False` (the current default value), which uses the default pickle module implicitly. It is possible to construct malicious pickle data which will execute arbitrary code during unpickling (See https://github.com/pytorch/pytorch/blob/main/SECURITY.md#untrusted-models for more details). In a future release, the default value for `weights_only` will be flipped to `True`. This limits the functions that could be executed during unpickling. Arbitrary objects will no longer be allowed to be loaded via this mode unless they are explicitly allowlisted by the user via `torch.serialization.add_safe_globals`. We recommend you start setting `weights_only=True` for any use case where you don't have full control of the loaded file. Please open an issue on GitHub for any issues related to this experimental feature.\n",
      "  bert_embeddings = torch.load(\"./ingredient_embeddings_bert.pt\")\n"
     ]
    }
   ],
   "source": [
    "import torch\n",
    "\n",
    "# load the ingredient embeddings\n",
    "ingredient_embeddings = torch.load(\"./ingredient_embeddings_gat_v2.pt\")\n",
    "bert_embeddings = torch.load(\"./ingredient_embeddings_bert.pt\")\n",
    "\n",
    "# inspect the embeddings\n",
    "print(ingredient_embeddings)\n",
    "print(bert_embeddings)"
   ]
  },
  {
   "cell_type": "code",
   "execution_count": 9,
   "metadata": {},
   "outputs": [
    {
     "name": "stdout",
     "output_type": "stream",
     "text": [
      "tensor([[-0.0543,  0.0626,  0.0970,  ...,  0.1355, -0.0535,  0.0409],\n",
      "        [ 0.0049,  0.0597,  0.0785,  ...,  0.1169, -0.0523, -0.0042],\n",
      "        [-0.0375,  0.0510,  0.1369,  ...,  0.1196, -0.0168,  0.0084],\n",
      "        ...,\n",
      "        [ 0.1604, -0.0035, -0.0270,  ...,  0.0024,  0.1036,  0.0508],\n",
      "        [-0.0015, -0.0779,  0.1157,  ...,  0.0762,  0.1227,  0.0586],\n",
      "        [ 0.0102,  0.0201, -0.0642,  ...,  0.0031,  0.0513, -0.0170]])\n",
      "tensor([[-0.0526,  0.0284, -0.0505,  ...,  0.0177,  0.0231,  0.0307],\n",
      "        [-0.0265, -0.0046, -0.0161,  ..., -0.0121,  0.0315,  0.0166],\n",
      "        [-0.0294,  0.0243, -0.0671,  ..., -0.0280, -0.0078,  0.0291],\n",
      "        ...,\n",
      "        [-0.0270, -0.0047, -0.0273,  ..., -0.0150, -0.0059,  0.0236],\n",
      "        [-0.0520,  0.0259, -0.0271,  ..., -0.0246,  0.0020,  0.0499],\n",
      "        [-0.0133,  0.0156,  0.0012,  ..., -0.0158,  0.0235,  0.0100]])\n"
     ]
    }
   ],
   "source": [
    "\n",
    "# normalize the embeddings\n",
    "ingredient_embeddings = torch.nn.functional.normalize(ingredient_embeddings, p=2, dim=1)\n",
    "bert_embeddings = torch.nn.functional.normalize(bert_embeddings, p=2, dim=1)\n",
    "\n",
    "print(ingredient_embeddings)\n",
    "print(bert_embeddings)"
   ]
  },
  {
   "cell_type": "code",
   "execution_count": 10,
   "metadata": {},
   "outputs": [],
   "source": [
    "\n",
    "# concatenate the embeddings\n",
    "concat_embeddings = torch.cat([ingredient_embeddings, bert_embeddings], dim=1)\n",
    "\n",
    "# Save the concatenated embeddings\n",
    "torch.save(concat_embeddings, \"./ingredient_embeddings_concat.pt\")"
   ]
  }
 ],
 "metadata": {
  "kernelspec": {
   "display_name": "csci2470",
   "language": "python",
   "name": "python3"
  },
  "language_info": {
   "codemirror_mode": {
    "name": "ipython",
    "version": 3
   },
   "file_extension": ".py",
   "mimetype": "text/x-python",
   "name": "python",
   "nbconvert_exporter": "python",
   "pygments_lexer": "ipython3",
   "version": "3.11.9"
  }
 },
 "nbformat": 4,
 "nbformat_minor": 2
}
