{
 "cells": [
  {
   "cell_type": "code",
   "execution_count": 2,
   "metadata": {},
   "outputs": [
    {
     "name": "stdout",
     "output_type": "stream",
     "text": [
      "tensor([[-3.5067e-02,  4.0401e-02,  6.2585e-02,  ...,  8.7442e-02,\n",
      "         -3.4544e-02,  2.6393e-02],\n",
      "        [ 2.8923e-03,  3.5581e-02,  4.6746e-02,  ...,  6.9635e-02,\n",
      "         -3.1150e-02, -2.4894e-03],\n",
      "        [-3.8004e-02,  5.1686e-02,  1.3883e-01,  ...,  1.2125e-01,\n",
      "         -1.7026e-02,  8.5565e-03],\n",
      "        ...,\n",
      "        [ 2.5114e+00, -5.5451e-02, -4.2354e-01,  ...,  3.6905e-02,\n",
      "          1.6226e+00,  7.9568e-01],\n",
      "        [-2.0718e-02, -1.0674e+00,  1.5850e+00,  ...,  1.0442e+00,\n",
      "          1.6812e+00,  8.0268e-01],\n",
      "        [ 2.1651e-01,  4.2835e-01, -1.3640e+00,  ...,  6.5846e-02,\n",
      "          1.0917e+00, -3.6186e-01]])\n",
      "tensor([[-0.7719,  0.4169, -0.7402,  ...,  0.2603,  0.3389,  0.4507],\n",
      "        [-0.3830, -0.0660, -0.2323,  ..., -0.1751,  0.4549,  0.2395],\n",
      "        [-0.4955,  0.4092, -1.1320,  ..., -0.4718, -0.1319,  0.4905],\n",
      "        ...,\n",
      "        [-0.4084, -0.0712, -0.4128,  ..., -0.2269, -0.0887,  0.3565],\n",
      "        [-0.8203,  0.4091, -0.4271,  ..., -0.3878,  0.0322,  0.7871],\n",
      "        [-0.1914,  0.2247,  0.0174,  ..., -0.2285,  0.3395,  0.1438]])\n"
     ]
    },
    {
     "name": "stderr",
     "output_type": "stream",
     "text": [
      "/tmp/ipykernel_928587/1702126324.py:4: FutureWarning: You are using `torch.load` with `weights_only=False` (the current default value), which uses the default pickle module implicitly. It is possible to construct malicious pickle data which will execute arbitrary code during unpickling (See https://github.com/pytorch/pytorch/blob/main/SECURITY.md#untrusted-models for more details). In a future release, the default value for `weights_only` will be flipped to `True`. This limits the functions that could be executed during unpickling. Arbitrary objects will no longer be allowed to be loaded via this mode unless they are explicitly allowlisted by the user via `torch.serialization.add_safe_globals`. We recommend you start setting `weights_only=True` for any use case where you don't have full control of the loaded file. Please open an issue on GitHub for any issues related to this experimental feature.\n",
      "  ingredient_embeddings = torch.load(\"./ingredient_embeddings_gat_v2.pt\")\n",
      "/tmp/ipykernel_928587/1702126324.py:5: FutureWarning: You are using `torch.load` with `weights_only=False` (the current default value), which uses the default pickle module implicitly. It is possible to construct malicious pickle data which will execute arbitrary code during unpickling (See https://github.com/pytorch/pytorch/blob/main/SECURITY.md#untrusted-models for more details). In a future release, the default value for `weights_only` will be flipped to `True`. This limits the functions that could be executed during unpickling. Arbitrary objects will no longer be allowed to be loaded via this mode unless they are explicitly allowlisted by the user via `torch.serialization.add_safe_globals`. We recommend you start setting `weights_only=True` for any use case where you don't have full control of the loaded file. Please open an issue on GitHub for any issues related to this experimental feature.\n",
      "  bert_embeddings = torch.load(\"./ingredient_embeddings_bert.pt\")\n"
     ]
    }
   ],
   "source": [
    "import torch\n",
    "\n",
    "# load the ingredient embeddings\n",
    "ingredient_embeddings = torch.load(\"./ingredient_embeddings_gat_v2.pt\")\n",
    "bert_embeddings = torch.load(\"./ingredient_embeddings_bert.pt\")\n",
    "\n",
    "# inspect the embeddings\n",
    "print(ingredient_embeddings)\n",
    "print(bert_embeddings)"
   ]
  },
  {
   "cell_type": "code",
   "execution_count": null,
   "metadata": {},
   "outputs": [
    {
     "name": "stdout",
     "output_type": "stream",
     "text": [
      "(('quinoa', 'jicama'), 0.9840413331985474)\n",
      "(('berries', 'corn'), 0.9838709831237793)\n",
      "(('berries', 'grapes'), 0.9820185899734497)\n",
      "(('berries', 'wine'), 0.9818021655082703)\n",
      "(('carrot', 'wine'), 0.9810669422149658)\n",
      "(('berries', 'sugar'), 0.9809611439704895)\n",
      "(('berries', 'milk'), 0.980205237865448)\n",
      "(('berries', 'tuna'), 0.979519784450531)\n",
      "(('brown rice', 'white rice'), 0.978987991809845)\n",
      "(('berries', 'squash'), 0.9789713025093079)\n",
      "(('berries', 'garlic'), 0.9780934453010559)\n",
      "(('berries', 'chicken'), 0.977954089641571)\n",
      "(('carrot', 'chicken'), 0.9777261018753052)\n",
      "(('carrot', 'tuna'), 0.9777044057846069)\n",
      "(('berries', 'butter'), 0.9775931239128113)\n",
      "(('carrot', 'ginger'), 0.9765673279762268)\n",
      "(('berries', 'orange'), 0.9763238430023193)\n",
      "(('berries', 'syrup'), 0.975771963596344)\n",
      "(('quinoa', 'pesto'), 0.9757385849952698)\n",
      "(('berries', 'chili'), 0.9755913615226746)\n",
      "(('berries', 'pizza'), 0.9741999506950378)\n",
      "(('carrot', 'pizza'), 0.9735509157180786)\n",
      "(('carrot', 'tofu'), 0.9734382629394531)\n",
      "(('berries', 'cookies'), 0.9731311202049255)\n",
      "(('carrot', 'milk'), 0.9730768799781799)\n",
      "(('berries', 'lime'), 0.9725005626678467)\n",
      "(('berries', 'basil'), 0.9722170233726501)\n",
      "(('carrot', 'basil'), 0.9721652865409851)\n",
      "(('carrot', 'squash'), 0.9715084433555603)\n",
      "(('carrot', 'berries'), 0.9714828133583069)\n",
      "(('berries', 'apple'), 0.9709581136703491)\n",
      "(('berries', 'rosemary'), 0.9709539413452148)\n",
      "(('berries', 'white wine'), 0.970842182636261)\n",
      "(('berries', 'brown sugar'), 0.9703260660171509)\n",
      "(('berries', 'millet'), 0.9685115814208984)\n",
      "(('berries', 'hominy'), 0.9684455394744873)\n",
      "(('berries', 'ginger'), 0.9684008955955505)\n",
      "(('carrot', 'sugar'), 0.9681122899055481)\n",
      "(('carrot', 'cookies'), 0.9680901169776917)\n",
      "(('carrot', 'hominy'), 0.9679433107376099)\n",
      "(('carrot', 'rosemary'), 0.9678689241409302)\n",
      "(('carrot', 'apple'), 0.9678588509559631)\n",
      "(('carrot', 'lime'), 0.9676567912101746)\n",
      "(('carrot', 'garlic'), 0.9676048159599304)\n",
      "(('quinoa', 'millet'), 0.9669430255889893)\n",
      "(('berries', 'pepper'), 0.9665364623069763)\n",
      "(('carrot', 'chili'), 0.9664705395698547)\n",
      "(('berries', 'mushroom'), 0.9663424491882324)\n",
      "(('carrot', 'pesto'), 0.9661991000175476)\n",
      "(('berries', 'steak'), 0.9659769535064697)\n",
      "(('carrot', 'butter'), 0.9655653238296509)\n",
      "(('berries', 'tofu'), 0.9654885530471802)\n",
      "(('carrot', 'orange'), 0.9654209017753601)\n",
      "(('carrot', 'corn'), 0.9652796983718872)\n",
      "(('carrot', 'millet'), 0.9651187062263489)\n",
      "(('quinoa', 'chive'), 0.9645854830741882)\n",
      "(('berries', 'sandwiches'), 0.9639341235160828)\n",
      "(('berries', 'orange with peel'), 0.9638068675994873)\n",
      "(('bacon', 'scrambled eggs'), 0.9637103080749512)\n",
      "(('berries', 'pesto'), 0.9634993076324463)\n",
      "(('berries', 'toast'), 0.9631515145301819)\n",
      "(('bacon', 'cereal'), 0.962650716304779)\n",
      "(('berries', 'chard'), 0.9623187184333801)\n",
      "(('quinoa', 'hominy'), 0.9622491598129272)\n",
      "(('bacon', 'steak'), 0.961933970451355)\n",
      "(('carrot', 'steak'), 0.9612418413162231)\n",
      "(('quinoa', 'kale'), 0.9609047174453735)\n",
      "(('raspberries', 'blueberries'), 0.9606706500053406)\n",
      "(('quinoa', 'succotash'), 0.9606431722640991)\n",
      "(('carrot', 'syrup'), 0.9600868225097656)\n",
      "(('carrot', 'pepper'), 0.9599654078483582)\n",
      "(('quinoa', 'cilantro'), 0.9599459767341614)\n",
      "(('berries', 'parsley'), 0.9595367908477783)\n",
      "(('berries', 'pumpkin seeds'), 0.9594519734382629)\n",
      "(('quinoa', 'vinaigrette'), 0.9590949416160583)\n",
      "(('raspberries', 'strawberries'), 0.9590785503387451)\n",
      "(('berries', 'kale'), 0.9587368369102478)\n",
      "(('berries', 'salmon'), 0.9586416482925415)\n",
      "(('carrot', 'grapes'), 0.9585051536560059)\n",
      "(('berries', 'cabbage'), 0.9584462642669678)\n",
      "(('quinoa', 'granola'), 0.9583353400230408)\n",
      "(('berries', 'bread'), 0.9581582546234131)\n",
      "(('carrot', 'sandwiches'), 0.9575211405754089)\n",
      "(('bacon', 'lemon juice'), 0.9572843313217163)\n",
      "(('bacon', 'cottage cheese'), 0.9572805166244507)\n",
      "(('quinoa', 'pilaf'), 0.9571869969367981)\n",
      "(('berries', 'fish'), 0.9570515155792236)\n",
      "(('quinoa', 'orange'), 0.9570022821426392)\n",
      "(('berries', 'pasta'), 0.9569583535194397)\n",
      "(('berries', 'eggs'), 0.9568646550178528)\n",
      "(('carrot', 'toast'), 0.9568398594856262)\n",
      "(('quinoa', 'apple'), 0.9567511677742004)\n",
      "(('berries', 'granola'), 0.9567469358444214)\n",
      "(('bacon', 'bread'), 0.9559060335159302)\n",
      "(('raspberries', 'blackberries'), 0.9556487202644348)\n",
      "(('carrot', 'white wine'), 0.9555211663246155)\n",
      "(('bacon', 'cheese'), 0.9553784132003784)\n",
      "(('quinoa', 'pasta'), 0.9552886486053467)\n",
      "(('bacon', 'granola'), 0.9552494287490845)\n",
      "(('bacon', 'sandwiches'), 0.9552026987075806)\n"
     ]
    }
   ],
   "source": [
    "# print out the top 10 paired ingredients in bert with the highest cosine similarity\n",
    "# bert\n",
    "import pandas as pd\n",
    "ing_id = \"./utils/data/test_labels_ingr_id.csv\"\n",
    "\n",
    "df = pd.read_csv(ing_id)\n",
    "ingr_name = df.columns[1:-1].to_list()\n",
    "\n",
    "cos = torch.nn.CosineSimilarity(dim=0)\n",
    "\n",
    "sim_dict = {}\n",
    "\n",
    "for i in range(10):\n",
    "    for j in range(i+1, len(bert_embeddings)):\n",
    "        sim = cos(bert_embeddings[i], bert_embeddings[j])\n",
    "        sim_dict[(ingr_name[i], ingr_name[j])] = sim.item()\n",
    "        \n",
    "sorted_sim_dict = sorted(sim_dict.items(), key=lambda x: x[1], reverse=True)\n",
    "\n",
    "for i in range(100):\n",
    "    print(sorted_sim_dict[i])\n"
   ]
  },
  {
   "cell_type": "code",
   "execution_count": 10,
   "metadata": {},
   "outputs": [
    {
     "data": {
      "text/plain": [
       "Data(x=[199, 199], edge_index=[2, 6090], edge_attr=[6090])"
      ]
     },
     "execution_count": 10,
     "metadata": {},
     "output_type": "execute_result"
    }
   ],
   "source": [
    "import torch\n",
    "\n",
    "torch.load(\"./ingredient_graph_v2.pt\", weights_only=False)"
   ]
  },
  {
   "cell_type": "code",
   "execution_count": null,
   "metadata": {},
   "outputs": [
    {
     "name": "stdout",
     "output_type": "stream",
     "text": [
      "tensor([[-0.0543,  0.0626,  0.0970,  ...,  0.1355, -0.0535,  0.0409],\n",
      "        [ 0.0049,  0.0597,  0.0785,  ...,  0.1169, -0.0523, -0.0042],\n",
      "        [-0.0375,  0.0510,  0.1369,  ...,  0.1196, -0.0168,  0.0084],\n",
      "        ...,\n",
      "        [ 0.1604, -0.0035, -0.0270,  ...,  0.0024,  0.1036,  0.0508],\n",
      "        [-0.0015, -0.0779,  0.1157,  ...,  0.0762,  0.1227,  0.0586],\n",
      "        [ 0.0102,  0.0201, -0.0642,  ...,  0.0031,  0.0513, -0.0170]])\n",
      "tensor([[-0.0526,  0.0284, -0.0505,  ...,  0.0177,  0.0231,  0.0307],\n",
      "        [-0.0265, -0.0046, -0.0161,  ..., -0.0121,  0.0315,  0.0166],\n",
      "        [-0.0294,  0.0243, -0.0671,  ..., -0.0280, -0.0078,  0.0291],\n",
      "        ...,\n",
      "        [-0.0270, -0.0047, -0.0273,  ..., -0.0150, -0.0059,  0.0236],\n",
      "        [-0.0520,  0.0259, -0.0271,  ..., -0.0246,  0.0020,  0.0499],\n",
      "        [-0.0133,  0.0156,  0.0012,  ..., -0.0158,  0.0235,  0.0100]])\n"
     ]
    }
   ],
   "source": [
    "\n",
    "# normalize the embeddings\n",
    "ingredient_embeddings = torch.nn.functional.normalize(ingredient_embeddings, p=2, dim=1)\n",
    "bert_embeddings = torch.nn.functional.normalize(bert_embeddings, p=2, dim=1)\n",
    "\n",
    "print(ingredient_embeddings)\n",
    "print(bert_embeddings)"
   ]
  },
  {
   "cell_type": "code",
   "execution_count": null,
   "metadata": {},
   "outputs": [],
   "source": [
    "\n",
    "# concatenate the embeddings\n",
    "concat_embeddings = torch.cat([ingredient_embeddings, bert_embeddings], dim=1)\n",
    "\n",
    "# Save the concatenated embeddings\n",
    "# torch.save(concat_embeddings, \"./ingredient_embeddings_concat.pt\")"
   ]
  }
 ],
 "metadata": {
  "kernelspec": {
   "display_name": "csci2470",
   "language": "python",
   "name": "python3"
  },
  "language_info": {
   "codemirror_mode": {
    "name": "ipython",
    "version": 3
   },
   "file_extension": ".py",
   "mimetype": "text/x-python",
   "name": "python",
   "nbconvert_exporter": "python",
   "pygments_lexer": "ipython3",
   "version": "3.11.9"
  }
 },
 "nbformat": 4,
 "nbformat_minor": 2
}
