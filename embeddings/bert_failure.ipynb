{
 "cells": [
  {
   "cell_type": "code",
   "execution_count": 33,
   "metadata": {},
   "outputs": [
    {
     "name": "stdout",
     "output_type": "stream",
     "text": [
      "2958\n",
      "id                       dish_1562699612\n",
      "brown rice                           1.0\n",
      "quinoa                               1.0\n",
      "olive oil                            1.0\n",
      "carrot                               0.0\n",
      "                            ...         \n",
      "chilaquiles                          0.0\n",
      "pasta salad                          0.0\n",
      "balsamic vinegar                     0.0\n",
      "toast                                0.0\n",
      "img_indx            dish_1562699612.jpeg\n",
      "Name: 0, Length: 201, dtype: object\n",
      "[0, 1, 2]\n"
     ]
    }
   ],
   "source": [
    "import torch\n",
    "from torch_geometric.data import Data\n",
    "from itertools import combinations\n",
    "\n",
    "train_ingr_id = '../utils/data/train_labels_ingr_id.csv'\n",
    "val_ingr_id = '../utils/data/val_labels_ingr_id.csv'\n",
    "# test_ingr_id = './test_labels_ingr_id.csv'\n",
    "import pandas as pd\n",
    "\n",
    "train_df = pd.read_csv(train_ingr_id)\n",
    "val_df = pd.read_csv(val_ingr_id)\n",
    "train_df = pd.concat([train_df, val_df], ignore_index=True)\n",
    "# val_df = pd.read_csv(val_ingr_id)\n",
    "# test_df = pd.read_csv(test_ingr_id)\n",
    "\n",
    "# combine the train, validation, and test DataFrames\n",
    "# df = pd.concat([train_df, val_df, test_df], ignore_index=True)\n",
    "df = train_df\n",
    "print(len(df))\n",
    "\n",
    "num_ingredients = len(df.columns) - 2  # Subtract 2 for 'dish_id' and 'image_path' columns\n",
    "\n",
    "# df structure\n",
    "# dish_id, ingredient 1, ingredient 2, ingredient 3, ingredient 4, ingredient 5, ingredient 6, ingredient 7, ingredient 8, ingredient 9, ingredient 10, ...\n",
    "# x, 0, 1, 0, 1, 0, 0, 0, 0, 0, 0\n",
    "ingr_list = []\n",
    "# for each dish, add the index of the ingredients where the value is 1 to the list\n",
    "# e.g. dish_1 = [1, 3], dish_2 = [1, 4], dish_3 = [2, 3], ...\n",
    "# ingr_list = [[1, 3], [1, 4], [2, 3], ...]\n",
    "# Iterate over each row of the DataFrame\n",
    "for _, row in df.iterrows():\n",
    "    # We assume that the first column is 'dish_id' and the remaining columns represent ingredients.\n",
    "    # Extract the values starting from the second column onward (i.e., ingredient columns)\n",
    "    # last column is the image_path, so we exclude it\n",
    "    ingredient_values = row.iloc[1:-1]\n",
    "    \n",
    "    # Find the indices (0-based) of the ingredients where the value is 1\n",
    "    selected_indices = [i for i, val in enumerate(ingredient_values) if val == 1]\n",
    "    \n",
    "    # Append the list of selected ingredient indices for this dish\n",
    "    ingr_list.append(selected_indices)\n",
    "\n",
    "print(df.iloc[0])\n",
    "# print the second row of the DataFrame\n",
    "print(ingr_list[0])"
   ]
  },
  {
   "cell_type": "code",
   "execution_count": 34,
   "metadata": {},
   "outputs": [
    {
     "data": {
      "text/plain": [
       "array([[  0,  12, 201, ...,   0,   0,   0],\n",
       "       [ 12,   0, 124, ...,   0,   0,   0],\n",
       "       [201, 124,   0, ...,   1,   1,   0],\n",
       "       ...,\n",
       "       [  0,   0,   1, ...,   0,   0,   0],\n",
       "       [  0,   0,   1, ...,   0,   0,   0],\n",
       "       [  0,   0,   0, ...,   0,   0,   0]], dtype=int32)"
      ]
     },
     "execution_count": 34,
     "metadata": {},
     "output_type": "execute_result"
    }
   ],
   "source": [
    "import numpy as np\n",
    "adj_matrix = np.zeros((num_ingredients, num_ingredients), dtype=np.int32)\n",
    "\n",
    "for dish in ingr_list:\n",
    "    for i, j in combinations(dish, 2):\n",
    "        adj_matrix[i, j] += 1\n",
    "        adj_matrix[j, i] += 1\n",
    "\n",
    "adj_matrix"
   ]
  },
  {
   "cell_type": "code",
   "execution_count": 35,
   "metadata": {},
   "outputs": [
    {
     "name": "stdout",
     "output_type": "stream",
     "text": [
      "(('quinoa', 'jicama'), 0.9840413331985474)\n",
      "(('berries', 'corn'), 0.9838709831237793)\n",
      "(('berries', 'grapes'), 0.9820185899734497)\n",
      "(('berries', 'wine'), 0.9818021655082703)\n",
      "(('carrot', 'wine'), 0.9810669422149658)\n",
      "(('berries', 'sugar'), 0.9809611439704895)\n",
      "(('berries', 'milk'), 0.980205237865448)\n",
      "(('berries', 'tuna'), 0.979519784450531)\n",
      "(('brown rice', 'white rice'), 0.978987991809845)\n",
      "(('berries', 'squash'), 0.9789713025093079)\n",
      "(('berries', 'garlic'), 0.9780934453010559)\n",
      "(('berries', 'chicken'), 0.977954089641571)\n",
      "(('carrot', 'chicken'), 0.9777261018753052)\n",
      "(('carrot', 'tuna'), 0.9777044057846069)\n",
      "(('berries', 'butter'), 0.9775931239128113)\n",
      "(('carrot', 'ginger'), 0.9765673279762268)\n",
      "(('berries', 'orange'), 0.9763238430023193)\n",
      "(('berries', 'syrup'), 0.975771963596344)\n",
      "(('quinoa', 'pesto'), 0.9757385849952698)\n",
      "(('berries', 'chili'), 0.9755913615226746)\n",
      "(('berries', 'pizza'), 0.9741999506950378)\n",
      "(('carrot', 'pizza'), 0.9735509157180786)\n",
      "(('carrot', 'tofu'), 0.9734382629394531)\n",
      "(('berries', 'cookies'), 0.9731311202049255)\n",
      "(('carrot', 'milk'), 0.9730768799781799)\n",
      "(('berries', 'lime'), 0.9725005626678467)\n",
      "(('berries', 'basil'), 0.9722170233726501)\n",
      "(('carrot', 'basil'), 0.9721652865409851)\n",
      "(('carrot', 'squash'), 0.9715084433555603)\n",
      "(('carrot', 'berries'), 0.9714828133583069)\n",
      "(('berries', 'apple'), 0.9709581136703491)\n",
      "(('berries', 'rosemary'), 0.9709539413452148)\n",
      "(('berries', 'white wine'), 0.970842182636261)\n",
      "(('berries', 'brown sugar'), 0.9703260660171509)\n",
      "(('berries', 'millet'), 0.9685115814208984)\n",
      "(('berries', 'hominy'), 0.9684455394744873)\n",
      "(('berries', 'ginger'), 0.9684008955955505)\n",
      "(('carrot', 'sugar'), 0.9681122899055481)\n",
      "(('carrot', 'cookies'), 0.9680901169776917)\n",
      "(('carrot', 'hominy'), 0.9679433107376099)\n",
      "(('carrot', 'rosemary'), 0.9678689241409302)\n",
      "(('carrot', 'apple'), 0.9678588509559631)\n",
      "(('carrot', 'lime'), 0.9676567912101746)\n",
      "(('carrot', 'garlic'), 0.9676048159599304)\n",
      "(('quinoa', 'millet'), 0.9669430255889893)\n",
      "(('berries', 'pepper'), 0.9665364623069763)\n",
      "(('carrot', 'chili'), 0.9664705395698547)\n",
      "(('berries', 'mushroom'), 0.9663424491882324)\n",
      "(('carrot', 'pesto'), 0.9661991000175476)\n",
      "(('berries', 'steak'), 0.9659769535064697)\n",
      "(('carrot', 'butter'), 0.9655653238296509)\n",
      "(('berries', 'tofu'), 0.9654885530471802)\n",
      "(('carrot', 'orange'), 0.9654209017753601)\n",
      "(('carrot', 'corn'), 0.9652796983718872)\n",
      "(('carrot', 'millet'), 0.9651187062263489)\n",
      "(('quinoa', 'chive'), 0.9645854830741882)\n",
      "(('berries', 'sandwiches'), 0.9639341235160828)\n",
      "(('berries', 'orange with peel'), 0.9638068675994873)\n",
      "(('bacon', 'scrambled eggs'), 0.9637103080749512)\n",
      "(('berries', 'pesto'), 0.9634993076324463)\n",
      "(('berries', 'toast'), 0.9631515145301819)\n",
      "(('bacon', 'cereal'), 0.962650716304779)\n",
      "(('berries', 'chard'), 0.9623187184333801)\n",
      "(('quinoa', 'hominy'), 0.9622491598129272)\n",
      "(('bacon', 'steak'), 0.961933970451355)\n",
      "(('carrot', 'steak'), 0.9612418413162231)\n",
      "(('quinoa', 'kale'), 0.9609047174453735)\n",
      "(('raspberries', 'blueberries'), 0.9606706500053406)\n",
      "(('quinoa', 'succotash'), 0.9606431722640991)\n",
      "(('carrot', 'syrup'), 0.9600868225097656)\n",
      "(('carrot', 'pepper'), 0.9599654078483582)\n",
      "(('quinoa', 'cilantro'), 0.9599459767341614)\n",
      "(('berries', 'parsley'), 0.9595367908477783)\n",
      "(('berries', 'pumpkin seeds'), 0.9594519734382629)\n",
      "(('quinoa', 'vinaigrette'), 0.9590949416160583)\n",
      "(('raspberries', 'strawberries'), 0.9590785503387451)\n",
      "(('berries', 'kale'), 0.9587368369102478)\n",
      "(('berries', 'salmon'), 0.9586416482925415)\n",
      "(('carrot', 'grapes'), 0.9585051536560059)\n",
      "(('berries', 'cabbage'), 0.9584462642669678)\n",
      "(('quinoa', 'granola'), 0.9583353400230408)\n",
      "(('berries', 'bread'), 0.9581582546234131)\n",
      "(('carrot', 'sandwiches'), 0.9575211405754089)\n",
      "(('bacon', 'lemon juice'), 0.9572843313217163)\n",
      "(('bacon', 'cottage cheese'), 0.9572805166244507)\n",
      "(('quinoa', 'pilaf'), 0.9571869969367981)\n",
      "(('berries', 'fish'), 0.9570515155792236)\n",
      "(('quinoa', 'orange'), 0.9570022821426392)\n",
      "(('berries', 'pasta'), 0.9569583535194397)\n",
      "(('berries', 'eggs'), 0.9568646550178528)\n",
      "(('carrot', 'toast'), 0.9568398594856262)\n",
      "(('quinoa', 'apple'), 0.9567511677742004)\n",
      "(('berries', 'granola'), 0.9567469358444214)\n",
      "(('bacon', 'bread'), 0.9559060335159302)\n",
      "(('raspberries', 'blackberries'), 0.9556487202644348)\n",
      "(('carrot', 'white wine'), 0.9555211663246155)\n",
      "(('bacon', 'cheese'), 0.9553784132003784)\n",
      "(('quinoa', 'pasta'), 0.9552886486053467)\n",
      "(('bacon', 'granola'), 0.9552494287490845)\n",
      "(('bacon', 'sandwiches'), 0.9552026987075806)\n"
     ]
    },
    {
     "name": "stderr",
     "output_type": "stream",
     "text": [
      "/tmp/ipykernel_3938441/401531389.py:6: FutureWarning: You are using `torch.load` with `weights_only=False` (the current default value), which uses the default pickle module implicitly. It is possible to construct malicious pickle data which will execute arbitrary code during unpickling (See https://github.com/pytorch/pytorch/blob/main/SECURITY.md#untrusted-models for more details). In a future release, the default value for `weights_only` will be flipped to `True`. This limits the functions that could be executed during unpickling. Arbitrary objects will no longer be allowed to be loaded via this mode unless they are explicitly allowlisted by the user via `torch.serialization.add_safe_globals`. We recommend you start setting `weights_only=True` for any use case where you don't have full control of the loaded file. Please open an issue on GitHub for any issues related to this experimental feature.\n",
      "  ingredient_embeddings = torch.load(\"./ingredient_embeddings_gat_512.pt\")\n",
      "/tmp/ipykernel_3938441/401531389.py:7: FutureWarning: You are using `torch.load` with `weights_only=False` (the current default value), which uses the default pickle module implicitly. It is possible to construct malicious pickle data which will execute arbitrary code during unpickling (See https://github.com/pytorch/pytorch/blob/main/SECURITY.md#untrusted-models for more details). In a future release, the default value for `weights_only` will be flipped to `True`. This limits the functions that could be executed during unpickling. Arbitrary objects will no longer be allowed to be loaded via this mode unless they are explicitly allowlisted by the user via `torch.serialization.add_safe_globals`. We recommend you start setting `weights_only=True` for any use case where you don't have full control of the loaded file. Please open an issue on GitHub for any issues related to this experimental feature.\n",
      "  bert_embeddings = torch.load(\"./ingredient_embeddings_bert.pt\")\n"
     ]
    }
   ],
   "source": [
    "# print out the top 10 paired ingredients in bert with the highest cosine similarity\n",
    "# bert\n",
    "import torch\n",
    "\n",
    "# load the ingredient embeddings\n",
    "ingredient_embeddings = torch.load(\"./ingredient_embeddings_gat_512.pt\")\n",
    "bert_embeddings = torch.load(\"./ingredient_embeddings_bert.pt\")\n",
    "\n",
    "import pandas as pd\n",
    "ing_id = \"../utils/data/test_labels_ingr_id.csv\"\n",
    "\n",
    "df = pd.read_csv(ing_id)\n",
    "ingr_name = df.columns[1:-1].to_list()\n",
    "\n",
    "cos = torch.nn.CosineSimilarity(dim=0)\n",
    "\n",
    "ingr_name_dict = {}\n",
    "ingr_id_dict = {}\n",
    "\n",
    "for i in range(10):\n",
    "    for j in range(i+1, len(bert_embeddings)):\n",
    "        sim = cos(bert_embeddings[i], bert_embeddings[j])\n",
    "        ingr_name_dict[(ingr_name[i], ingr_name[j])] = sim.item()\n",
    "        ingr_id_dict[(i, j)] = sim.item()\n",
    "        \n",
    "sorted_sim_dict = sorted(ingr_name_dict.items(), key=lambda x: x[1], reverse=True)\n",
    "sorted_id_dict = sorted(ingr_id_dict.items(), key=lambda x: x[1], reverse=True)\n",
    "\n",
    "top_100 = sorted_id_dict[:100]\n",
    "for i in range(100):\n",
    "    print(sorted_sim_dict[i])"
   ]
  },
  {
   "cell_type": "code",
   "execution_count": 36,
   "metadata": {},
   "outputs": [
    {
     "name": "stdout",
     "output_type": "stream",
     "text": [
      "quinoa jicama 0.9840413331985474 0 1 140\n",
      "berries corn 0.9838709831237793 1 6 139\n",
      "berries wine 0.9818021655082703 3 6 116\n",
      "berries sugar 0.9809611439704895 5 6 136\n",
      "berries tuna 0.979519784450531 7 6 118\n",
      "berries squash 0.9789713025093079 9 6 45\n",
      "berries chicken 0.977954089641571 11 6 77\n",
      "berries butter 0.9775931239128113 14 6 126\n",
      "berries syrup 0.975771963596344 17 6 178\n",
      "quinoa pesto 0.9757385849952698 18 1 179\n",
      "berries chili 0.9755913615226746 19 6 63\n",
      "berries cookies 0.9731311202049255 23 6 129\n",
      "carrot milk 0.9730768799781799 24 3 10\n",
      "berries basil 0.9722170233726501 26 6 66\n",
      "berries apple 0.9709581136703491 30 6 114\n",
      "berries rosemary 0.9709539413452148 31 6 75\n",
      "berries white wine 0.970842182636261 32 6 125\n",
      "berries brown sugar 0.9703260660171509 33 6 181\n",
      "berries hominy 0.9684455394744873 35 6 106\n",
      "berries ginger 0.9684008955955505 36 6 80\n",
      "carrot cookies 0.9680901169776917 38 3 129\n",
      "berries mushroom 0.9663424491882324 47 6 82\n",
      "berries steak 0.9659769535064697 49 6 81\n",
      "berries tofu 0.9654885530471802 51 6 130\n",
      "berries sandwiches 0.9639341235160828 56 6 185\n",
      "berries orange with peel 0.9638068675994873 57 6 190\n",
      "berries pesto 0.9634993076324463 59 6 179\n",
      "berries toast 0.9631515145301819 60 6 198\n",
      "bacon cereal 0.962650716304779 61 9 173\n",
      "berries chard 0.9623187184333801 62 6 23\n",
      "quinoa succotash 0.9606431722640991 68 1 161\n",
      "carrot syrup 0.9600868225097656 69 3 178\n",
      "berries pumpkin seeds 0.9594519734382629 73 6 131\n",
      "raspberries strawberries 0.9590785503387451 75 5 49\n",
      "berries kale 0.9587368369102478 76 6 72\n",
      "berries salmon 0.9586416482925415 77 6 121\n",
      "berries cabbage 0.9584462642669678 79 6 53\n",
      "quinoa granola 0.9583353400230408 80 1 110\n",
      "berries bread 0.9581582546234131 81 6 112\n",
      "carrot sandwiches 0.9575211405754089 82 3 185\n",
      "bacon cottage cheese 0.9572805166244507 84 9 19\n",
      "quinoa pilaf 0.9571869969367981 85 1 188\n",
      "berries fish 0.9570515155792236 86 6 25\n",
      "quinoa orange 0.9570022821426392 87 1 163\n",
      "berries pasta 0.9569583535194397 88 6 165\n",
      "carrot toast 0.9568398594856262 90 3 198\n",
      "bacon bread 0.9559060335159302 93 9 112\n",
      "quinoa pasta 0.9552886486053467 97 1 165\n",
      "bacon sandwiches 0.9552026987075806 99 9 185\n",
      "49\n"
     ]
    }
   ],
   "source": [
    "# for the top 100 paired ingredients, print out the number of co-occurrences\n",
    "never_appear = 0\n",
    "\n",
    "for pair in top_100:\n",
    "    if adj_matrix[pair[0][0], pair[0][1]] == 0:\n",
    "        never_appear += 1\n",
    "        print(ingr_name[pair[0][0]], ingr_name[pair[0][1]], pair[1], top_100.index(pair), pair[0][0], pair[0][1])\n",
    "\n",
    "print(never_appear)"
   ]
  },
  {
   "cell_type": "code",
   "execution_count": 37,
   "metadata": {},
   "outputs": [
    {
     "name": "stdout",
     "output_type": "stream",
     "text": [
      "olive oil 48\n",
      "scrambled eggs 48\n",
      "salt 36\n",
      "berries 26\n",
      "vinegar 24\n",
      "garlic 23\n",
      "cucumbers 22\n",
      "mustard 18\n",
      "sweet potato 18\n",
      "yam 16\n"
     ]
    }
   ],
   "source": [
    "# in the co-occurrence matrix, find the top 10 ingredient that co-occur the most with the bacon\n",
    "bacon_idx = 9\n",
    "bacon_cooccur = adj_matrix[bacon_idx]\n",
    "sorted_bacon_cooccur = sorted(enumerate(bacon_cooccur), key=lambda x: x[1], reverse=True)\n",
    "\n",
    "for i in range(10):\n",
    "    print(ingr_name[sorted_bacon_cooccur[i][0]], sorted_bacon_cooccur[i][1])\n"
   ]
  },
  {
   "cell_type": "code",
   "execution_count": 38,
   "metadata": {},
   "outputs": [
    {
     "name": "stdout",
     "output_type": "stream",
     "text": [
      "bacon olive oil 48\n",
      "tensor(0.6193)\n"
     ]
    }
   ],
   "source": [
    "# print out the similarity between bacon and olive oil\n",
    "bacon_idx = 9\n",
    "ingred_list = df.columns[1:-1].to_list()\n",
    "olive_oil_idx = ingred_list.index(\"olive oil\")\n",
    "print(ingr_name[bacon_idx], ingr_name[olive_oil_idx], adj_matrix[bacon_idx, olive_oil_idx])\n",
    "\n",
    "# bert embedding for bacon and olive oil\n",
    "print(cos(bert_embeddings[bacon_idx], bert_embeddings[olive_oil_idx]))\n"
   ]
  },
  {
   "cell_type": "code",
   "execution_count": 42,
   "metadata": {},
   "outputs": [
    {
     "name": "stdout",
     "output_type": "stream",
     "text": [
      "tensor(-0.1339)\n",
      "tensor(0.6027)\n"
     ]
    }
   ],
   "source": [
    "# measure the similarity between the bacon and olive oil in ingredient embeddings\n",
    "print(cos(ingredient_embeddings[bacon_idx], ingredient_embeddings[ingred_list.index(\"cereal\")]))\n",
    "print(cos(ingredient_embeddings[bacon_idx], ingredient_embeddings[olive_oil_idx]))"
   ]
  },
  {
   "cell_type": "code",
   "execution_count": 44,
   "metadata": {},
   "outputs": [
    {
     "name": "stdout",
     "output_type": "stream",
     "text": [
      "13\n"
     ]
    }
   ],
   "source": [
    "ingr_name_dict = {}\n",
    "ingr_id_dict = {}\n",
    "\n",
    "for i in range(10):\n",
    "    for j in range(i+1, len(ingredient_embeddings)):\n",
    "        sim = cos(ingredient_embeddings[i], ingredient_embeddings[j])\n",
    "        ingr_name_dict[(ingr_name[i], ingr_name[j])] = sim.item()\n",
    "        ingr_id_dict[(i, j)] = sim.item()\n",
    "        \n",
    "sorted_sim_dict = sorted(ingr_name_dict.items(), key=lambda x: x[1], reverse=True)\n",
    "sorted_id_dict = sorted(ingr_id_dict.items(), key=lambda x: x[1], reverse=True)\n",
    "\n",
    "top_100 = sorted_id_dict[:100]\n",
    "\n",
    "# for the top 100 paired ingredients, print out the number of co-occurrences\n",
    "never_appear = 0\n",
    "\n",
    "for pair in top_100:\n",
    "    if adj_matrix[pair[0][0], pair[0][1]] < 1:\n",
    "        never_appear += 1\n",
    "\n",
    "print(never_appear)"
   ]
  }
 ],
 "metadata": {
  "kernelspec": {
   "display_name": "csci2470",
   "language": "python",
   "name": "python3"
  },
  "language_info": {
   "codemirror_mode": {
    "name": "ipython",
    "version": 3
   },
   "file_extension": ".py",
   "mimetype": "text/x-python",
   "name": "python",
   "nbconvert_exporter": "python",
   "pygments_lexer": "ipython3",
   "version": "3.11.9"
  }
 },
 "nbformat": 4,
 "nbformat_minor": 2
}
