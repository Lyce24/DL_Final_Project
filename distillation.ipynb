{
 "cells": [
  {
   "cell_type": "code",
   "execution_count": 4,
   "metadata": {},
   "outputs": [
    {
     "name": "stdout",
     "output_type": "stream",
     "text": [
      "Time taken: 11.66094708442688 seconds\n",
      "Time taken per image: 0.038358378567193686 seconds\n",
      "Time taken: 15.795039653778076 seconds\n",
      "Time taken per image: 0.051957367282164726 seconds\n",
      "Time taken: 17.820536851882935 seconds\n",
      "Time taken per image: 0.05862018701277281 seconds\n"
     ]
    }
   ],
   "source": [
    "# speed test\n",
    "from sklearn.metrics import mean_absolute_error, mean_squared_error\n",
    "import numpy as np\n",
    "import torch\n",
    "import pandas as pd\n",
    "import os\n",
    "from models.models import ConvLSTM, InceptionV3Model, ViTModel\n",
    "from utils.preprocess import prepare_test_loader\n",
    "import time\n",
    "\n",
    "# Set the device\n",
    "device = torch.device(\"cuda\" if torch.cuda.is_available() else \"cpu\")\n",
    "\n",
    "# Load the test dataset\n",
    "dataset_path = './utils/data/test_labels.csv'\n",
    "test_df = pd.read_csv(dataset_path)\n",
    "\n",
    "min_max_file = './utils/min_max_values.csv'\n",
    "\n",
    "min_max_df = pd.read_csv(min_max_file)\n",
    "\n",
    "dataset_path = '../data/nutrition5k_reconstructed/'\n",
    "\n",
    "image_path = os.path.join(dataset_path, 'images')\n",
    "\n",
    "def speed_test(model, model_path):\n",
    "    model = model.to(device)\n",
    "    model.load_state_dict(torch.load(model_path, map_location=device, weights_only=True))\n",
    "    \n",
    "    IMG_DIM = 299 if isinstance(model, InceptionV3Model) else 224\n",
    "    \n",
    "    test_loader = prepare_test_loader(test_df, image_path, [\"calories\", \"mass\", \"fat\", \"carb\", \"protein\"] , img_dim=IMG_DIM, batch_size=16)\n",
    "\n",
    "    model.eval()\n",
    "    start_time = time.time()\n",
    "    with torch.no_grad():\n",
    "        for inputs, targets in test_loader:\n",
    "            inputs, targets = inputs.to(device), targets.to(device)\n",
    "            outputs = model(inputs)\n",
    "    end_time = time.time()\n",
    "    print(f\"Time taken: {end_time - start_time} seconds\")\n",
    "    print(f\"Time taken per image: {(end_time - start_time) / len(test_df)} seconds\")\n",
    "    \n",
    "tasks = [\"calories\", \"mass\", \"fat\", \"carb\", \"protein\"]\n",
    "speed_test(ConvLSTM(tasks), './models/checkpoints/convlstm_log.pth')\n",
    "speed_test(InceptionV3Model(tasks), './models/checkpoints/inceptionv3_log_regular.pth')\n",
    "speed_test(ViTModel(tasks), './models/checkpoints/vit_log_regular.pth')"
   ]
  },
  {
   "cell_type": "code",
   "execution_count": null,
   "metadata": {},
   "outputs": [],
   "source": []
  }
 ],
 "metadata": {
  "kernelspec": {
   "display_name": "csci2470",
   "language": "python",
   "name": "python3"
  },
  "language_info": {
   "codemirror_mode": {
    "name": "ipython",
    "version": 3
   },
   "file_extension": ".py",
   "mimetype": "text/x-python",
   "name": "python",
   "nbconvert_exporter": "python",
   "pygments_lexer": "ipython3",
   "version": "3.11.9"
  }
 },
 "nbformat": 4,
 "nbformat_minor": 2
}
