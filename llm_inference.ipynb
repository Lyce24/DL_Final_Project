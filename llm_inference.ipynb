{
 "cells": [
  {
   "cell_type": "code",
   "execution_count": null,
   "metadata": {},
   "outputs": [
    {
     "name": "stdout",
     "output_type": "stream",
     "text": [
      "{calories: 135, mass: 123g, fat: 0.53g, carbs: 22g, protein: 3.6g}\n"
     ]
    }
   ],
   "source": [
    "from huggingface_hub import InferenceClient\n",
    "import base64\n",
    "\n",
    "client = InferenceClient(api_key=\"My HG API Key\")\n",
    "\n",
    "image_path = \"../data/nutrition5k_revised/images/dish_1550704903/camera_A_frame_001.jpeg\"\n",
    "with open(image_path, \"rb\") as f:\n",
    "    base64_image = base64.b64encode(f.read()).decode(\"utf-8\")\n",
    "    \n",
    "image_url = f\"data:image/jpeg;base64,{base64_image}\"\n",
    "\n",
    "messages = [\n",
    "    {\n",
    "        \"role\": \"system\",\n",
    "        \"content\": \"\"\"You are a nutritionist. You will be given an image of food. Analyze the food in the image and provide its nutritional facts (calories, mass, fat, carbs, protein) in that order.\"\"\"\n",
    "        \n",
    "    },\n",
    "\t{\n",
    "\t\t\"role\": \"user\",\n",
    "\t\t\"content\": \"\"\"I will provide an image of food and you will analyze the food in the image and provide its nutritional facts. Your response must strictly follow this format: {calories: <calories>, mass: <mass>, fat: <fat>, carbs: <carbs>, protein: <protein>}. Do NOT include any additional text, commentary, or explanations.\"\"\"\n",
    "\t},\n",
    "\t{\n",
    "\t\t\"role\": \"assistant\",\n",
    "\t\t\"content\": \"\"\"I will answer your questions with the following format: {calories: <calories>, mass: <mass>, fat: <fat>, carbs: <carbs>, protein: <protein>}. Please provide the image of the food you would like me to analyze.\"\"\"\n",
    "\t},\n",
    "\t{\n",
    "\t\t\"role\": \"user\",\n",
    "\t\t\"content\": [\n",
    "\t\t\t{\n",
    "\t\t\t\t\"type\": \"text\",\n",
    "\t\t\t\t\"text\": \"Here is an image of food I would like you to analyze.\"\n",
    "\t\t\t},\n",
    "\t\t\t{\n",
    "\t\t\t\t\"type\": \"image_url\",\n",
    "\t\t\t\t\"image_url\": {\"url\": image_url},\n",
    "\t\t\t}\n",
    "\t\t]\n",
    "\t}\n",
    "]\n",
    "\n",
    "completion = client.chat.completions.create(\n",
    "    model=\"meta-llama/Llama-3.2-11B-Vision-Instruct\", \n",
    "\tmessages=messages, \n",
    "\tmax_tokens=500\n",
    ")\n",
    "\n",
    "response = completion.choices[0].message[\"content\"]\n",
    "print(response)"
   ]
  }
 ],
 "metadata": {
  "kernelspec": {
   "display_name": "csci2470",
   "language": "python",
   "name": "python3"
  },
  "language_info": {
   "codemirror_mode": {
    "name": "ipython",
    "version": 3
   },
   "file_extension": ".py",
   "mimetype": "text/x-python",
   "name": "python",
   "nbconvert_exporter": "python",
   "pygments_lexer": "ipython3",
   "version": "3.11.9"
  }
 },
 "nbformat": 4,
 "nbformat_minor": 2
}
